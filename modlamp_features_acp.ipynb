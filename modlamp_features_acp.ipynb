{
  "cells": [
    {
      "cell_type": "markdown",
      "metadata": {
        "id": "view-in-github",
        "colab_type": "text"
      },
      "source": [
        "<a href=\"https://colab.research.google.com/github/isabellaloren4/isabellaloren4/blob/main/modlamp_features_acp.ipynb\" target=\"_parent\"><img src=\"https://colab.research.google.com/assets/colab-badge.svg\" alt=\"Open In Colab\"/></a>"
      ]
    },
    {
      "cell_type": "code",
      "execution_count": null,
      "id": "a0694949-29a9-4ae0-a87d-32c4cb98b3cb",
      "metadata": {
        "colab": {
          "base_uri": "https://localhost:8080/"
        },
        "id": "a0694949-29a9-4ae0-a87d-32c4cb98b3cb",
        "outputId": "7e497e57-a603-4c98-da4d-5445da640d70"
      },
      "outputs": [
        {
          "name": "stdout",
          "output_type": "stream",
          "text": [
            "Requirement already satisfied: modlamp in /opt/conda/lib/python3.10/site-packages (4.3.0)\n",
            "Requirement already satisfied: setuptools>=20.2.2 in /opt/conda/lib/python3.10/site-packages (from modlamp) (68.0.0)\n",
            "Requirement already satisfied: nose>=1.3.7 in /opt/conda/lib/python3.10/site-packages (from modlamp) (1.3.7)\n",
            "Requirement already satisfied: numpy>=1.10.4 in /opt/conda/lib/python3.10/site-packages (from modlamp) (1.23.5)\n",
            "Requirement already satisfied: scipy>=0.17.0 in /opt/conda/lib/python3.10/site-packages (from modlamp) (1.11.1)\n",
            "Requirement already satisfied: matplotlib>=1.5.1 in /opt/conda/lib/python3.10/site-packages (from modlamp) (3.7.2)\n",
            "Requirement already satisfied: scikit-learn>=0.18.0 in /opt/conda/lib/python3.10/site-packages (from modlamp) (1.3.0)\n",
            "Requirement already satisfied: pandas>=0.18.1 in /opt/conda/lib/python3.10/site-packages (from modlamp) (2.0.3)\n",
            "Requirement already satisfied: requests>=2.11.1 in /opt/conda/lib/python3.10/site-packages (from modlamp) (2.31.0)\n",
            "Requirement already satisfied: lxml>=3.6.4 in /opt/conda/lib/python3.10/site-packages (from modlamp) (4.9.3)\n",
            "Requirement already satisfied: joblib>=0.15.1 in /opt/conda/lib/python3.10/site-packages (from modlamp) (1.3.1)\n",
            "Requirement already satisfied: mysql-connector-python==8.0.17 in /opt/conda/lib/python3.10/site-packages (from modlamp) (8.0.17)\n",
            "Requirement already satisfied: protobuf>=3.0.0 in /opt/conda/lib/python3.10/site-packages (from mysql-connector-python==8.0.17->modlamp) (3.19.6)\n",
            "Requirement already satisfied: contourpy>=1.0.1 in /opt/conda/lib/python3.10/site-packages (from matplotlib>=1.5.1->modlamp) (1.1.0)\n",
            "Requirement already satisfied: cycler>=0.10 in /opt/conda/lib/python3.10/site-packages (from matplotlib>=1.5.1->modlamp) (0.11.0)\n",
            "Requirement already satisfied: fonttools>=4.22.0 in /opt/conda/lib/python3.10/site-packages (from matplotlib>=1.5.1->modlamp) (4.42.0)\n",
            "Requirement already satisfied: kiwisolver>=1.0.1 in /opt/conda/lib/python3.10/site-packages (from matplotlib>=1.5.1->modlamp) (1.4.4)\n",
            "Requirement already satisfied: packaging>=20.0 in /opt/conda/lib/python3.10/site-packages (from matplotlib>=1.5.1->modlamp) (23.1)\n",
            "Requirement already satisfied: pillow>=6.2.0 in /opt/conda/lib/python3.10/site-packages (from matplotlib>=1.5.1->modlamp) (10.0.0)\n",
            "Requirement already satisfied: pyparsing<3.1,>=2.3.1 in /opt/conda/lib/python3.10/site-packages (from matplotlib>=1.5.1->modlamp) (3.0.9)\n",
            "Requirement already satisfied: python-dateutil>=2.7 in /opt/conda/lib/python3.10/site-packages (from matplotlib>=1.5.1->modlamp) (2.8.2)\n",
            "Requirement already satisfied: pytz>=2020.1 in /opt/conda/lib/python3.10/site-packages (from pandas>=0.18.1->modlamp) (2023.3)\n",
            "Requirement already satisfied: tzdata>=2022.1 in /opt/conda/lib/python3.10/site-packages (from pandas>=0.18.1->modlamp) (2023.3)\n",
            "Requirement already satisfied: charset-normalizer<4,>=2 in /opt/conda/lib/python3.10/site-packages (from requests>=2.11.1->modlamp) (3.2.0)\n",
            "Requirement already satisfied: idna<4,>=2.5 in /opt/conda/lib/python3.10/site-packages (from requests>=2.11.1->modlamp) (3.4)\n",
            "Requirement already satisfied: urllib3<3,>=1.21.1 in /opt/conda/lib/python3.10/site-packages (from requests>=2.11.1->modlamp) (1.26.15)\n",
            "Requirement already satisfied: certifi>=2017.4.17 in /opt/conda/lib/python3.10/site-packages (from requests>=2.11.1->modlamp) (2023.7.22)\n",
            "Requirement already satisfied: threadpoolctl>=2.0.0 in /opt/conda/lib/python3.10/site-packages (from scikit-learn>=0.18.0->modlamp) (3.2.0)\n",
            "Requirement already satisfied: six>=1.5 in /opt/conda/lib/python3.10/site-packages (from python-dateutil>=2.7->matplotlib>=1.5.1->modlamp) (1.16.0)\n",
            "Requirement already satisfied: numpy in /opt/conda/lib/python3.10/site-packages (1.23.5)\n",
            "Requirement already satisfied: rdkit-pypi in /opt/conda/lib/python3.10/site-packages (2022.9.5)\n",
            "Requirement already satisfied: numpy in /opt/conda/lib/python3.10/site-packages (from rdkit-pypi) (1.23.5)\n",
            "Requirement already satisfied: Pillow in /opt/conda/lib/python3.10/site-packages (from rdkit-pypi) (10.0.0)\n"
          ]
        }
      ],
      "source": [
        "!pip install modlamp\n",
        "!pip install numpy\n",
        "!pip install rdkit-pypi"
      ]
    },
    {
      "cell_type": "code",
      "execution_count": null,
      "id": "eeba14ef-8d3c-48cc-8c7e-c2d4991e5421",
      "metadata": {
        "id": "eeba14ef-8d3c-48cc-8c7e-c2d4991e5421"
      },
      "outputs": [],
      "source": [
        "from multiprocessing import allow_connection_pickling\n",
        "#Sequências do ACP2.0\n",
        "import pandas as pd\n",
        "import numpy as np\n",
        "from rdkit.Chem import AllChem\n",
        "from rdkit import Chem\n",
        "from rdkit.Chem import Descriptors\n",
        "from rdkit.ML.Descriptors import MoleculeDescriptors\n",
        "from modlamp.descriptors import PeptideDescriptor"
      ]
    },
    {
      "cell_type": "code",
      "execution_count": null,
      "id": "4b32ee5c-565c-4795-b490-f0140eb2b5c0",
      "metadata": {
        "id": "4b32ee5c-565c-4795-b490-f0140eb2b5c0"
      },
      "outputs": [],
      "source": [
        "facp = open(\"acp.txt\",'r')\n",
        "fnacp = open(\"nacp.txt\", 'r')\n",
        "\n",
        "acp = facp.readlines()\n",
        "nacp = fnacp.readlines()\n",
        "\n",
        "facp.close()\n",
        "fnacp.close()\n",
        "\n",
        "tam_acp=len(acp)\n",
        "tam_nacp=len(nacp)\n",
        "\n",
        "#Criando a lista para sequências em FASTA\n",
        "fasta=[]\n",
        "y=[]\n",
        "\n",
        "for i in range(tam_acp):\n",
        "    fasta.append((acp[i][:-1]))\n",
        "    y.append(1)\n",
        "\n",
        "for i in range(tam_nacp):\n",
        "    fasta.append((nacp[i][:-1]))\n",
        "    y.append(0)\n",
        "\n",
        "#Convertendo fasta em objeto\n",
        "fasta=np.array(fasta)"
      ]
    },
    {
      "cell_type": "code",
      "execution_count": null,
      "id": "f80b1035-ceb3-44a0-9dbd-fca67a4b10de",
      "metadata": {
        "id": "f80b1035-ceb3-44a0-9dbd-fca67a4b10de"
      },
      "outputs": [],
      "source": [
        "#Peptide descriptor\n",
        "\n",
        "descr_names = ['AASI', 'ABHPRK', 'argos', 'bulkiness', 'charge_phys', 'charge_acid', 'cougar',\n",
        "               'eisenberg', 'Ez', 'flexibility', 'grantham', 'gravy', 'hopp-woods', 'ISAECI',\n",
        "               'janin', 'kytedoolittle', 'levitt_alpha', 'MSS', 'MSW', 'pepArc', 'pepcats',\n",
        "               'polarity', 'PPCALI', 'refractivity', 't_scale', 'TM_tend', 'z3', 'z5']\n",
        "\n",
        "D = []\n",
        "\n",
        "for descr in descr_names:\n",
        "\n",
        "    #calcular descritor autocorr\n",
        "    #d = PeptideDescriptor(fasta, scalename=descr)\n",
        "    #d.calculate_crosscorr(2)\n",
        "    #dc = d.descriptor\n",
        "\n",
        "    #calcular descritor\n",
        "    pepdesc = PeptideDescriptor(fasta, scalename=descr)\n",
        "    pepdesc.calculate_global()\n",
        "    dc = pepdesc.descriptor\n",
        "\n",
        "    #converter para numpy array corretamente\n",
        "    dc_numpy = np.zeros((len(dc), len(dc[0])))\n",
        "    for i in range (len(dc)):\n",
        "        dc_numpy[i] = np.array(dc[i])\n",
        "\n",
        "    D.append(dc_numpy)"
      ]
    },
    {
      "cell_type": "code",
      "execution_count": null,
      "id": "opOMRMIHnn0Z",
      "metadata": {
        "id": "opOMRMIHnn0Z"
      },
      "outputs": [],
      "source": [
        "M = np.concatenate((D[0], D[1]), axis=1)\n",
        "\n",
        "for i in range(2,len(D)):\n",
        "    M = np.concatenate((M, D[i]), axis=1)"
      ]
    },
    {
      "cell_type": "code",
      "execution_count": null,
      "id": "a1a424fd-9e54-4094-b4e3-c9878f050d2d",
      "metadata": {
        "id": "a1a424fd-9e54-4094-b4e3-c9878f050d2d"
      },
      "outputs": [],
      "source": [
        "pd.DataFrame(M).to_csv('features/modlamp.csv', index=False, header=False)"
      ]
    }
  ],
  "metadata": {
    "colab": {
      "provenance": [],
      "include_colab_link": true
    },
    "environment": {
      "kernel": "python3",
      "name": "tf2-gpu.2-11.m110",
      "type": "gcloud",
      "uri": "gcr.io/deeplearning-platform-release/tf2-gpu.2-11:m110"
    },
    "kernelspec": {
      "display_name": "Python 3",
      "language": "python",
      "name": "python3"
    },
    "language_info": {
      "codemirror_mode": {
        "name": "ipython",
        "version": 3
      },
      "file_extension": ".py",
      "mimetype": "text/x-python",
      "name": "python",
      "nbconvert_exporter": "python",
      "pygments_lexer": "ipython3",
      "version": "3.10.12"
    }
  },
  "nbformat": 4,
  "nbformat_minor": 5
}