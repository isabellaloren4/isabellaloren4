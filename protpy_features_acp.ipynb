{
  "cells": [
    {
      "cell_type": "markdown",
      "metadata": {
        "id": "view-in-github",
        "colab_type": "text"
      },
      "source": [
        "<a href=\"https://colab.research.google.com/github/isabellaloren4/isabellaloren4/blob/main/protpy_features_acp.ipynb\" target=\"_parent\"><img src=\"https://colab.research.google.com/assets/colab-badge.svg\" alt=\"Open In Colab\"/></a>"
      ]
    },
    {
      "cell_type": "code",
      "execution_count": null,
      "id": "a0694949-29a9-4ae0-a87d-32c4cb98b3cb",
      "metadata": {
        "id": "a0694949-29a9-4ae0-a87d-32c4cb98b3cb",
        "colab": {
          "base_uri": "https://localhost:8080/"
        },
        "outputId": "cdaa51df-ec34-4d96-9f26-ad576f992b94"
      },
      "outputs": [
        {
          "output_type": "stream",
          "name": "stdout",
          "text": [
            "Requirement already satisfied: protpy in /usr/local/lib/python3.10/dist-packages (1.1.10)\n",
            "Requirement already satisfied: aaindex in /usr/local/lib/python3.10/dist-packages (from protpy) (1.1.1)\n",
            "Requirement already satisfied: numpy in /usr/local/lib/python3.10/dist-packages (from protpy) (1.23.5)\n",
            "Requirement already satisfied: pandas in /usr/local/lib/python3.10/dist-packages (from protpy) (1.5.3)\n",
            "Requirement already satisfied: varname in /usr/local/lib/python3.10/dist-packages (from protpy) (0.11.2)\n",
            "Requirement already satisfied: biopython in /usr/local/lib/python3.10/dist-packages (from protpy) (1.81)\n",
            "Requirement already satisfied: python-dateutil>=2.8.1 in /usr/local/lib/python3.10/dist-packages (from pandas->protpy) (2.8.2)\n",
            "Requirement already satisfied: pytz>=2020.1 in /usr/local/lib/python3.10/dist-packages (from pandas->protpy) (2023.3.post1)\n",
            "Requirement already satisfied: executing<2.0,>=1.2 in /usr/local/lib/python3.10/dist-packages (from varname->protpy) (1.2.0)\n",
            "Requirement already satisfied: six>=1.5 in /usr/local/lib/python3.10/dist-packages (from python-dateutil>=2.8.1->pandas->protpy) (1.16.0)\n",
            "Requirement already satisfied: numpy in /usr/local/lib/python3.10/dist-packages (1.23.5)\n"
          ]
        }
      ],
      "source": [
        "!pip install protpy --upgrade\n",
        "!pip install numpy"
      ]
    },
    {
      "cell_type": "code",
      "execution_count": null,
      "id": "eeba14ef-8d3c-48cc-8c7e-c2d4991e5421",
      "metadata": {
        "id": "eeba14ef-8d3c-48cc-8c7e-c2d4991e5421"
      },
      "outputs": [],
      "source": [
        "import pandas as pd\n",
        "import numpy as np\n",
        "import protpy as protpy"
      ]
    },
    {
      "cell_type": "code",
      "execution_count": null,
      "id": "4b32ee5c-565c-4795-b490-f0140eb2b5c0",
      "metadata": {
        "id": "4b32ee5c-565c-4795-b490-f0140eb2b5c0"
      },
      "outputs": [],
      "source": [
        "facp = open(\"acp.txt\",'r')\n",
        "fnacp = open(\"nacp.txt\", 'r')\n",
        "\n",
        "acp = facp.readlines()\n",
        "nacp = fnacp.readlines()\n",
        "\n",
        "facp.close()\n",
        "fnacp.close()\n",
        "\n",
        "tam_acp=len(acp)\n",
        "tam_nacp=len(nacp)\n",
        "\n",
        "#Criando a lista para sequências em FASTA\n",
        "fasta=[]\n",
        "y=[]\n",
        "\n",
        "for i in range(tam_acp):\n",
        "    fasta.append((acp[i][:-1]))\n",
        "    y.append(1)\n",
        "\n",
        "for i in range(tam_nacp):\n",
        "    fasta.append((nacp[i][:-1]))\n",
        "    y.append(0)\n",
        "\n",
        "#Convertendo fasta em objeto\n",
        "fasta=np.array(fasta)"
      ]
    },
    {
      "cell_type": "code",
      "execution_count": null,
      "id": "f80b1035-ceb3-44a0-9dbd-fca67a4b10de",
      "metadata": {
        "id": "f80b1035-ceb3-44a0-9dbd-fca67a4b10de"
      },
      "outputs": [],
      "source": [
        "AAC = []\n",
        "\n",
        "for seq in fasta:\n",
        "  AAC.append(np.array(protpy.amino_acid_composition(seq))[0])\n",
        "\n",
        "pd.DataFrame(AAC).to_csv('AAC.csv', index=False, header=False)"
      ]
    },
    {
      "cell_type": "code",
      "source": [
        "DPC = []\n",
        "\n",
        "for seq in fasta:\n",
        "  DPC.append(np.array(protpy.dipeptide_composition(seq))[0])\n",
        "\n",
        "pd.DataFrame(DPC).to_csv('DPC.csv', index=False, header=False)"
      ],
      "metadata": {
        "id": "6HdtcDGxQisz"
      },
      "id": "6HdtcDGxQisz",
      "execution_count": null,
      "outputs": []
    },
    {
      "cell_type": "code",
      "source": [
        "TPC = []\n",
        "\n",
        "for seq in fasta:\n",
        "  TPC.append(np.array(protpy.tripeptide_composition(seq))[0])\n",
        "\n",
        "pd.DataFrame(TPC).to_csv('TPC.csv', index=False, header=False)"
      ],
      "metadata": {
        "id": "UyOwrQJtQwIv"
      },
      "id": "UyOwrQJtQwIv",
      "execution_count": null,
      "outputs": []
    },
    {
      "cell_type": "code",
      "source": [
        "\n",
        "PAAC = []\n",
        "\n",
        "for seq in fasta:\n",
        "  #lamda = 1 pelo existência de um dipeptideo na base\n",
        "  PAAC.append(np.array(protpy.pseudo_amino_acid_composition(seq, lamda=1))[0])\n",
        "\n",
        "pd.DataFrame(PAAC).to_csv('PAAC.csv', index=False, header=False)"
      ],
      "metadata": {
        "id": "dF91P95_Q7wA"
      },
      "id": "dF91P95_Q7wA",
      "execution_count": null,
      "outputs": []
    },
    {
      "cell_type": "code",
      "source": [
        "APAAC = []\n",
        "\n",
        "for seq in fasta:\n",
        "  APAAC.append(np.array(protpy.amphiphilic_pseudo_amino_acid_composition(seq, lamda=1))[0])\n",
        "\n",
        "pd.DataFrame(APAAC).to_csv('APAAC.csv', index=False, header=False)"
      ],
      "metadata": {
        "id": "5UOrQSCyRUl2"
      },
      "id": "5UOrQSCyRUl2",
      "execution_count": null,
      "outputs": []
    },
    {
      "cell_type": "code",
      "source": [
        "CTriad = []\n",
        "\n",
        "for seq in fasta:\n",
        "  CTriad.append(np.array(protpy.conjoint_triad(seq))[0])\n",
        "\n",
        "pd.DataFrame(CTriad).to_csv('CTriad.csv', index=False, header=False)"
      ],
      "metadata": {
        "id": "3CoXHspWRNhN"
      },
      "id": "3CoXHspWRNhN",
      "execution_count": null,
      "outputs": []
    },
    {
      "cell_type": "code",
      "source": [
        "CTD = []\n",
        "\n",
        "for seq in fasta:\n",
        "  CTD.append(np.array(protpy.ctd_(seq))[0])\n",
        "\n",
        "pd.DataFrame(CTD).to_csv('CTD.csv', index=False, header=False)"
      ],
      "metadata": {
        "id": "NzhXxWHCR7Lw"
      },
      "id": "NzhXxWHCR7Lw",
      "execution_count": null,
      "outputs": []
    }
  ],
  "metadata": {
    "colab": {
      "provenance": [],
      "include_colab_link": true
    },
    "environment": {
      "kernel": "python3",
      "name": "common-cpu.m110",
      "type": "gcloud",
      "uri": "gcr.io/deeplearning-platform-release/base-cpu:m110"
    },
    "kernelspec": {
      "display_name": "Python 3",
      "language": "python",
      "name": "python3"
    },
    "language_info": {
      "codemirror_mode": {
        "name": "ipython",
        "version": 3
      },
      "file_extension": ".py",
      "mimetype": "text/x-python",
      "name": "python",
      "nbconvert_exporter": "python",
      "pygments_lexer": "ipython3",
      "version": "3.10.12"
    }
  },
  "nbformat": 4,
  "nbformat_minor": 5
}