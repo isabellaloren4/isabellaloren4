{
  "cells": [
    {
      "cell_type": "markdown",
      "metadata": {
        "id": "view-in-github",
        "colab_type": "text"
      },
      "source": [
        "<a href=\"https://colab.research.google.com/github/isabellaloren4/isabellaloren4/blob/main/deepchem_features_new_acp.ipynb\" target=\"_parent\"><img src=\"https://colab.research.google.com/assets/colab-badge.svg\" alt=\"Open In Colab\"/></a>"
      ]
    },
    {
      "cell_type": "code",
      "execution_count": null,
      "id": "fa99d173-a108-4501-a5f0-50f4a88e9cb7",
      "metadata": {
        "colab": {
          "base_uri": "https://localhost:8080/"
        },
        "id": "fa99d173-a108-4501-a5f0-50f4a88e9cb7",
        "outputId": "04107bdb-4a00-45f0-d384-359945c22788"
      },
      "outputs": [
        {
          "name": "stdout",
          "output_type": "stream",
          "text": [
            "Requirement already satisfied: deepchem in /opt/conda/lib/python3.10/site-packages (2.7.2.dev20230919152433)\n",
            "Requirement already satisfied: joblib in /opt/conda/lib/python3.10/site-packages (from deepchem) (1.3.1)\n",
            "Requirement already satisfied: numpy>=1.21 in /opt/conda/lib/python3.10/site-packages (from deepchem) (1.23.5)\n",
            "Requirement already satisfied: pandas in /opt/conda/lib/python3.10/site-packages (from deepchem) (2.0.3)\n",
            "Requirement already satisfied: scikit-learn in /opt/conda/lib/python3.10/site-packages (from deepchem) (1.3.0)\n",
            "Requirement already satisfied: scipy>=1.10.1 in /opt/conda/lib/python3.10/site-packages (from deepchem) (1.11.1)\n",
            "Requirement already satisfied: rdkit in /opt/conda/lib/python3.10/site-packages (from deepchem) (2023.3.3)\n",
            "Requirement already satisfied: python-dateutil>=2.8.2 in /opt/conda/lib/python3.10/site-packages (from pandas->deepchem) (2.8.2)\n",
            "Requirement already satisfied: pytz>=2020.1 in /opt/conda/lib/python3.10/site-packages (from pandas->deepchem) (2023.3)\n",
            "Requirement already satisfied: tzdata>=2022.1 in /opt/conda/lib/python3.10/site-packages (from pandas->deepchem) (2023.3)\n",
            "Requirement already satisfied: Pillow in /opt/conda/lib/python3.10/site-packages (from rdkit->deepchem) (10.0.0)\n",
            "Requirement already satisfied: threadpoolctl>=2.0.0 in /opt/conda/lib/python3.10/site-packages (from scikit-learn->deepchem) (3.2.0)\n",
            "Requirement already satisfied: six>=1.5 in /opt/conda/lib/python3.10/site-packages (from python-dateutil>=2.8.2->pandas->deepchem) (1.16.0)\n",
            "Requirement already satisfied: rdkit-pypi in /opt/conda/lib/python3.10/site-packages (2022.9.5)\n",
            "Requirement already satisfied: numpy in /opt/conda/lib/python3.10/site-packages (from rdkit-pypi) (1.23.5)\n",
            "Requirement already satisfied: Pillow in /opt/conda/lib/python3.10/site-packages (from rdkit-pypi) (10.0.0)\n",
            "Requirement already satisfied: pytoda in /opt/conda/lib/python3.10/site-packages (1.1.3)\n",
            "Requirement already satisfied: numpy in /opt/conda/lib/python3.10/site-packages (from pytoda) (1.23.5)\n",
            "Requirement already satisfied: scikit-learn in /opt/conda/lib/python3.10/site-packages (from pytoda) (1.3.0)\n",
            "Requirement already satisfied: pandas in /opt/conda/lib/python3.10/site-packages (from pytoda) (2.0.3)\n",
            "Requirement already satisfied: torch>=1.4.0 in /opt/conda/lib/python3.10/site-packages (from pytoda) (2.0.1)\n",
            "Requirement already satisfied: diskcache in /opt/conda/lib/python3.10/site-packages (from pytoda) (5.6.3)\n",
            "Requirement already satisfied: dill>=0.3.3 in /opt/conda/lib/python3.10/site-packages (from pytoda) (0.3.7)\n",
            "Requirement already satisfied: selfies>=2.1.1 in /opt/conda/lib/python3.10/site-packages (from pytoda) (2.1.1)\n",
            "Requirement already satisfied: upfp in /opt/conda/lib/python3.10/site-packages (from pytoda) (0.0.5)\n",
            "Requirement already satisfied: SmilesPE>=0.0.3 in /opt/conda/lib/python3.10/site-packages (from pytoda) (0.0.3)\n",
            "Requirement already satisfied: pyfaidx in /opt/conda/lib/python3.10/site-packages (from pytoda) (0.7.2.1)\n",
            "Requirement already satisfied: pubchempy in /opt/conda/lib/python3.10/site-packages (from pytoda) (1.0.4)\n",
            "Requirement already satisfied: importlib-resources in /opt/conda/lib/python3.10/site-packages (from pytoda) (6.0.1)\n",
            "Requirement already satisfied: Unidecode in /opt/conda/lib/python3.10/site-packages (from pytoda) (1.3.6)\n",
            "Requirement already satisfied: rdkit-pypi>=2021.9.3 in /opt/conda/lib/python3.10/site-packages (from pytoda) (2022.9.5)\n",
            "Requirement already satisfied: Pillow in /opt/conda/lib/python3.10/site-packages (from rdkit-pypi>=2021.9.3->pytoda) (10.0.0)\n",
            "Requirement already satisfied: fastprogress in /opt/conda/lib/python3.10/site-packages (from SmilesPE>=0.0.3->pytoda) (1.0.3)\n",
            "Requirement already satisfied: gensim in /opt/conda/lib/python3.10/site-packages (from SmilesPE>=0.0.3->pytoda) (4.3.2)\n",
            "Requirement already satisfied: filelock in /opt/conda/lib/python3.10/site-packages (from torch>=1.4.0->pytoda) (3.12.2)\n",
            "Requirement already satisfied: typing-extensions in /opt/conda/lib/python3.10/site-packages (from torch>=1.4.0->pytoda) (4.5.0)\n",
            "Requirement already satisfied: sympy in /opt/conda/lib/python3.10/site-packages (from torch>=1.4.0->pytoda) (1.12)\n",
            "Requirement already satisfied: networkx in /opt/conda/lib/python3.10/site-packages (from torch>=1.4.0->pytoda) (2.8.8)\n",
            "Requirement already satisfied: jinja2 in /opt/conda/lib/python3.10/site-packages (from torch>=1.4.0->pytoda) (3.1.2)\n",
            "Requirement already satisfied: nvidia-cuda-nvrtc-cu11==11.7.99 in /opt/conda/lib/python3.10/site-packages (from torch>=1.4.0->pytoda) (11.7.99)\n",
            "Requirement already satisfied: nvidia-cuda-runtime-cu11==11.7.99 in /opt/conda/lib/python3.10/site-packages (from torch>=1.4.0->pytoda) (11.7.99)\n",
            "Requirement already satisfied: nvidia-cuda-cupti-cu11==11.7.101 in /opt/conda/lib/python3.10/site-packages (from torch>=1.4.0->pytoda) (11.7.101)\n",
            "Requirement already satisfied: nvidia-cudnn-cu11==8.5.0.96 in /opt/conda/lib/python3.10/site-packages (from torch>=1.4.0->pytoda) (8.5.0.96)\n",
            "Requirement already satisfied: nvidia-cublas-cu11==11.10.3.66 in /opt/conda/lib/python3.10/site-packages (from torch>=1.4.0->pytoda) (11.10.3.66)\n",
            "Requirement already satisfied: nvidia-cufft-cu11==10.9.0.58 in /opt/conda/lib/python3.10/site-packages (from torch>=1.4.0->pytoda) (10.9.0.58)\n",
            "Requirement already satisfied: nvidia-curand-cu11==10.2.10.91 in /opt/conda/lib/python3.10/site-packages (from torch>=1.4.0->pytoda) (10.2.10.91)\n",
            "Requirement already satisfied: nvidia-cusolver-cu11==11.4.0.1 in /opt/conda/lib/python3.10/site-packages (from torch>=1.4.0->pytoda) (11.4.0.1)\n",
            "Requirement already satisfied: nvidia-cusparse-cu11==11.7.4.91 in /opt/conda/lib/python3.10/site-packages (from torch>=1.4.0->pytoda) (11.7.4.91)\n",
            "Requirement already satisfied: nvidia-nccl-cu11==2.14.3 in /opt/conda/lib/python3.10/site-packages (from torch>=1.4.0->pytoda) (2.14.3)\n",
            "Requirement already satisfied: nvidia-nvtx-cu11==11.7.91 in /opt/conda/lib/python3.10/site-packages (from torch>=1.4.0->pytoda) (11.7.91)\n",
            "Requirement already satisfied: triton==2.0.0 in /opt/conda/lib/python3.10/site-packages (from torch>=1.4.0->pytoda) (2.0.0)\n",
            "Requirement already satisfied: setuptools in /opt/conda/lib/python3.10/site-packages (from nvidia-cublas-cu11==11.10.3.66->torch>=1.4.0->pytoda) (68.0.0)\n",
            "Requirement already satisfied: wheel in /opt/conda/lib/python3.10/site-packages (from nvidia-cublas-cu11==11.10.3.66->torch>=1.4.0->pytoda) (0.41.1)\n",
            "Requirement already satisfied: cmake in /opt/conda/lib/python3.10/site-packages (from triton==2.0.0->torch>=1.4.0->pytoda) (3.27.2)\n",
            "Requirement already satisfied: lit in /opt/conda/lib/python3.10/site-packages (from triton==2.0.0->torch>=1.4.0->pytoda) (16.0.6)\n",
            "Requirement already satisfied: python-dateutil>=2.8.2 in /opt/conda/lib/python3.10/site-packages (from pandas->pytoda) (2.8.2)\n",
            "Requirement already satisfied: pytz>=2020.1 in /opt/conda/lib/python3.10/site-packages (from pandas->pytoda) (2023.3)\n",
            "Requirement already satisfied: tzdata>=2022.1 in /opt/conda/lib/python3.10/site-packages (from pandas->pytoda) (2023.3)\n",
            "Requirement already satisfied: six in /opt/conda/lib/python3.10/site-packages (from pyfaidx->pytoda) (1.16.0)\n",
            "Requirement already satisfied: scipy>=1.5.0 in /opt/conda/lib/python3.10/site-packages (from scikit-learn->pytoda) (1.11.1)\n",
            "Requirement already satisfied: joblib>=1.1.1 in /opt/conda/lib/python3.10/site-packages (from scikit-learn->pytoda) (1.3.1)\n",
            "Requirement already satisfied: threadpoolctl>=2.0.0 in /opt/conda/lib/python3.10/site-packages (from scikit-learn->pytoda) (3.2.0)\n",
            "Requirement already satisfied: smart-open>=1.8.1 in /opt/conda/lib/python3.10/site-packages (from gensim->SmilesPE>=0.0.3->pytoda) (6.3.0)\n",
            "Requirement already satisfied: MarkupSafe>=2.0 in /opt/conda/lib/python3.10/site-packages (from jinja2->torch>=1.4.0->pytoda) (2.0.1)\n",
            "Requirement already satisfied: mpmath>=0.19 in /opt/conda/lib/python3.10/site-packages (from sympy->torch>=1.4.0->pytoda) (1.3.0)\n",
            "Requirement already satisfied: pubchempy in /opt/conda/lib/python3.10/site-packages (1.0.4)\n",
            "Requirement already satisfied: mordred in /opt/conda/lib/python3.10/site-packages (1.2.0)\n",
            "Requirement already satisfied: six==1.* in /opt/conda/lib/python3.10/site-packages (from mordred) (1.16.0)\n",
            "Requirement already satisfied: numpy==1.* in /opt/conda/lib/python3.10/site-packages (from mordred) (1.23.5)\n",
            "Requirement already satisfied: networkx==2.* in /opt/conda/lib/python3.10/site-packages (from mordred) (2.8.8)\n"
          ]
        }
      ],
      "source": [
        "!pip install --pre deepchem\n",
        "!pip install rdkit-pypi\n",
        "!pip install pytoda\n",
        "!pip install pubchempy\n",
        "!pip install mordred"
      ]
    },
    {
      "cell_type": "code",
      "execution_count": null,
      "id": "85c0a70c-5751-4141-893a-27654d019f04",
      "metadata": {
        "colab": {
          "base_uri": "https://localhost:8080/"
        },
        "id": "85c0a70c-5751-4141-893a-27654d019f04",
        "outputId": "469ce286-6b31-48b5-fb3a-2f6ef07ed67e"
      },
      "outputs": [
        {
          "name": "stderr",
          "output_type": "stream",
          "text": [
            "No normalization for AvgIpc. Feature removed!\n",
            "2023-10-24 00:35:44.156997: I tensorflow/core/platform/cpu_feature_guard.cc:193] This TensorFlow binary is optimized with oneAPI Deep Neural Network Library (oneDNN) to use the following CPU instructions in performance-critical operations:  AVX2 AVX512F AVX512_VNNI FMA\n",
            "To enable them in other operations, rebuild TensorFlow with the appropriate compiler flags.\n",
            "2023-10-24 00:35:45.008826: I tensorflow/core/util/port.cc:104] oneDNN custom operations are on. You may see slightly different numerical results due to floating-point round-off errors from different computation orders. To turn them off, set the environment variable `TF_ENABLE_ONEDNN_OPTS=0`.\n",
            "2023-10-24 00:35:47.726402: W tensorflow/compiler/xla/stream_executor/platform/default/dso_loader.cc:64] Could not load dynamic library 'libnvinfer.so.7'; dlerror: libnvinfer.so.7: cannot open shared object file: No such file or directory; LD_LIBRARY_PATH: /usr/local/cuda/lib64:/usr/local/nccl2/lib:/usr/local/cuda/extras/CUPTI/lib64\n",
            "2023-10-24 00:35:47.727266: W tensorflow/compiler/xla/stream_executor/platform/default/dso_loader.cc:64] Could not load dynamic library 'libnvinfer_plugin.so.7'; dlerror: libnvinfer_plugin.so.7: cannot open shared object file: No such file or directory; LD_LIBRARY_PATH: /usr/local/cuda/lib64:/usr/local/nccl2/lib:/usr/local/cuda/extras/CUPTI/lib64\n",
            "2023-10-24 00:35:47.727277: W tensorflow/compiler/tf2tensorrt/utils/py_utils.cc:38] TF-TRT Warning: Cannot dlopen some TensorRT libraries. If you would like to use Nvidia GPU with TensorRT, please make sure the missing libraries mentioned above are installed properly.\n",
            "Skipped loading some PyTorch models, missing a dependency. No module named 'torch_geometric'\n",
            "No module named 'torch_geometric'\n",
            "Skipped loading modules with pytorch-geometric dependency, missing a dependency. No module named 'torch_geometric'\n",
            "Skipped loading modules with pytorch-lightning dependency, missing a dependency. No module named 'pytorch_lightning'\n",
            "Skipped loading some Jax models, missing a dependency. No module named 'jax'\n"
          ]
        }
      ],
      "source": [
        "#Extraindo as seqências e tranformando em smiles\n",
        "import deepchem as dc\n",
        "import pandas as pd\n",
        "import numpy as np\n",
        "from pytoda.proteins import aas_to_smiles\n",
        "from rdkit.Chem import AllChem\n",
        "from rdkit import Chem\n",
        "from rdkit.Chem import Descriptors\n",
        "from rdkit.ML.Descriptors import MoleculeDescriptors"
      ]
    },
    {
      "cell_type": "code",
      "execution_count": null,
      "id": "f60ba274-ccb2-494c-bb36-fd5fd0929f34",
      "metadata": {
        "id": "f60ba274-ccb2-494c-bb36-fd5fd0929f34",
        "outputId": "19902de2-0ab0-4993-eeff-35e0cfcfdc4b"
      },
      "outputs": [
        {
          "name": "stdout",
          "output_type": "stream",
          "text": [
            "<module 'rdkit.ML.Descriptors.MoleculeDescriptors' from '/opt/conda/lib/python3.10/site-packages/rdkit/ML/Descriptors/MoleculeDescriptors.py'>\n"
          ]
        }
      ],
      "source": [
        "print(MoleculeDescriptors)"
      ]
    },
    {
      "cell_type": "code",
      "execution_count": null,
      "id": "6627aeae-ad3c-4530-9923-410b6706c3ea",
      "metadata": {
        "id": "6627aeae-ad3c-4530-9923-410b6706c3ea"
      },
      "outputs": [],
      "source": [
        "#facp = open(\"acp.txt\",'r')\n",
        "#fnacp = open(\"nacp.txt\", 'r')\n",
        "\n",
        "#acp = facp.readlines()\n",
        "#nacp = fnacp.readlines()\n",
        "\n",
        "#facp.close()\n",
        "#fnacp.close()\n",
        "\n",
        "acp=[]\n",
        "sequencia = \"ICLRLPGC\"\n",
        "acp.append(sequencia)\n",
        "#limpando os dados de acp e nacp\n",
        "tam_acp=len(acp)\n",
        "#tam_nacp=len(nacp)\n",
        "\n",
        "#Criando a lista para as sequências smiles\n",
        "smiles = []\n",
        "mols = []\n",
        "y = []\n",
        "for i in range(len(acp)):\n",
        "\n",
        "    mol = Chem.rdmolfiles.MolFromFASTA(acp[i][:-1], sanitize=True)\n",
        "    #mols.append(Chem.Mol(mol))\n",
        "    mols.append(mol)\n",
        "    smiles.append(Chem.rdmolfiles.MolToSmiles(mol, canonical=True))\n",
        "\n",
        "    #smiles.append(aas_to_smiles(acp[i][:-1]))\n",
        "\n",
        "    y.append(1)\n",
        "\n",
        "#for i in range(len(nacp)):\n",
        "\n",
        "    #mol = Chem.rdmolfiles.MolFromFASTA(nacp[i][:-1], sanitize=True)\n",
        "    #mols.append(Chem.Mol(mol))\n",
        "    #mols.append(mol)\n",
        "    #smiles.append(Chem.rdmolfiles.MolToSmiles(mol, canonical=True))\n",
        "\n",
        "    #smiles.append(aas_to_smiles(nacp[i][:-1]))\n",
        "\n",
        "    #y.append(0)"
      ]
    },
    {
      "cell_type": "code",
      "execution_count": null,
      "id": "09e1701e-24a2-4652-b53f-e2bdcf0cd09a",
      "metadata": {
        "id": "09e1701e-24a2-4652-b53f-e2bdcf0cd09a",
        "outputId": "4bf1c360-c428-490a-fba4-ce3cacd7d82a"
      },
      "outputs": [
        {
          "data": {
            "text/plain": [
              "['CC[C@H](C)[C@H](N)C(=O)N[C@@H](CS)C(=O)N[C@@H](CC(C)C)C(=O)N[C@@H](CCCNC(=N)N)C(=O)N[C@@H](CC(C)C)C(=O)N1CCC[C@H]1C(=O)NCC(=O)O']"
            ]
          },
          "execution_count": 15,
          "metadata": {},
          "output_type": "execute_result"
        }
      ],
      "source": [
        "smiles"
      ]
    },
    {
      "cell_type": "code",
      "execution_count": null,
      "id": "989e73f6-3b21-4929-aa5d-831837713b61",
      "metadata": {
        "id": "989e73f6-3b21-4929-aa5d-831837713b61",
        "outputId": "7878e29d-fe7c-44e2-e3da-707753026510"
      },
      "outputs": [
        {
          "data": {
            "image/png": "[encoded data removed]",
            "text/plain": [
              "<rdkit.Chem.rdchem.Mol at 0x7f67dcc7bc30>"
            ]
          },
          "execution_count": 16,
          "metadata": {},
          "output_type": "execute_result"
        }
      ],
      "source": [
        "mol"
      ]
    },
    {
      "cell_type": "code",
      "execution_count": null,
      "id": "c5539a75-f91a-4543-b2b1-722e515133b2",
      "metadata": {
        "id": "c5539a75-f91a-4543-b2b1-722e515133b2",
        "outputId": "90fc2699-a56a-4689-c325-242be141eade"
      },
      "outputs": [
        {
          "name": "stderr",
          "output_type": "stream",
          "text": [
            "/usr/bin/xdg-open: 882: www-browser: not found\n",
            "/usr/bin/xdg-open: 882: links2: not found\n",
            "/usr/bin/xdg-open: 882: elinks: not found\n",
            "/usr/bin/xdg-open: 882: links: not found\n",
            "/usr/bin/xdg-open: 882: lynx: not found\n",
            "/usr/bin/xdg-open: 882: w3m: not found\n",
            "xdg-open: no method available for opening '/var/tmp/tmp_zbd9li7.PNG'\n"
          ]
        }
      ],
      "source": [
        "from rdkit.Chem import Draw\n",
        "img = Draw.MolToImage(mol, size=(1800,1800), kekulize=True)\n",
        "img.save(\"mol_imagem_3.png\")\n",
        "img.show()"
      ]
    },
    {
      "cell_type": "code",
      "execution_count": null,
      "id": "70124422-af83-4924-a6a7-4da1b7adc9cf",
      "metadata": {
        "id": "70124422-af83-4924-a6a7-4da1b7adc9cf"
      },
      "outputs": [],
      "source": [
        "facp = open(\"acp.txt\",'r')\n",
        "fnacp = open(\"nacp.txt\", 'r')\n",
        "\n",
        "acp = facp.readlines()\n",
        "nacp = fnacp.readlines()\n",
        "\n",
        "facp.close()\n",
        "fnacp.close()\n",
        "\n",
        "tam_acp=len(acp)\n",
        "tam_nacp=len(nacp)\n",
        "\n",
        "#Criando a lista para sequências em FASTA\n",
        "fasta=[]\n",
        "y=[]\n",
        "\n",
        "for i in range(tam_acp):\n",
        "    fasta.append((acp[i][:-1]))\n",
        "    y.append(1)\n",
        "\n",
        "for i in range(tam_nacp):\n",
        "    fasta.append((nacp[i][:-1]))\n",
        "    y.append(0)\n",
        "\n",
        "#Convertendo fasta em objeto\n",
        "fasta=np.array(fasta)"
      ]
    },
    {
      "cell_type": "code",
      "execution_count": null,
      "id": "74569a17-734c-44a4-9b0d-bc9a0f63492f",
      "metadata": {
        "id": "74569a17-734c-44a4-9b0d-bc9a0f63492f"
      },
      "outputs": [],
      "source": [
        "#-----1D-MACCSKeysFingerprint\n",
        "\n",
        "featurizer = dc.feat.MACCSKeysFingerprint()\n",
        "d0 = featurizer.featurize(smiles)\n",
        "pd.DataFrame(d0).to_csv('maccskeys.csv', index=False, header=False)"
      ]
    },
    {
      "cell_type": "code",
      "execution_count": null,
      "id": "5B22oIK_UOm4",
      "metadata": {
        "id": "5B22oIK_UOm4"
      },
      "outputs": [],
      "source": [
        "#-----1D-CircularFingerprint\n",
        "\n",
        "featurizer = dc.feat.CircularFingerprint(size=2048, radius=4)\n",
        "d1 = featurizer.featurize(smiles)\n",
        "pd.DataFrame(d1).to_csv('circular.csv', index=False, header=False)"
      ]
    },
    {
      "cell_type": "code",
      "execution_count": null,
      "id": "ZtiAuNPnUO2B",
      "metadata": {
        "id": "ZtiAuNPnUO2B"
      },
      "outputs": [],
      "source": [
        "#-----1D-Mol2VecFingerprint\n",
        "\n",
        "featurizer = dc.feat.Mol2VecFingerprint()\n",
        "d2 = featurizer.featurize(smiles)\n",
        "pd.DataFrame(d2).to_csv('mol2vec.csv', index=False, header=False)"
      ]
    },
    {
      "cell_type": "code",
      "execution_count": null,
      "id": "78Hf_zRWeyS_",
      "metadata": {
        "id": "78Hf_zRWeyS_"
      },
      "outputs": [],
      "source": [
        "#-----1D-MordredDescriptors\n",
        "\n",
        "featurizer = dc.feat.MordredDescriptors(ignore_3D=True)\n",
        "d3 = featurizer.featurize(mols)\n",
        "\n",
        "for i in range(len(d3)):\n",
        "    for j in range(len(d3[0])):\n",
        "        if np.isnan(d3[i][j]):\n",
        "            #print(i,j)\n",
        "            d3[i][j] = 0\n",
        "\n",
        "pd.DataFrame(d3).to_csv('mordred.csv', index=False, header=False)"
      ]
    },
    {
      "cell_type": "code",
      "execution_count": null,
      "id": "XyKfJ_eheyvW",
      "metadata": {
        "id": "XyKfJ_eheyvW"
      },
      "outputs": [],
      "source": [
        "#-----1D-RDKitDescriptors\n",
        "\n",
        "featurizer = dc.feat.RDKitDescriptors()\n",
        "d4 = featurizer.featurize(mols)\n",
        "pd.DataFrame(d4).to_csv('rdkit.csv', index=False, header=False)"
      ]
    },
    {
      "cell_type": "code",
      "execution_count": null,
      "id": "UMmqqCBV7IHe",
      "metadata": {
        "id": "UMmqqCBV7IHe"
      },
      "outputs": [],
      "source": [
        "# Remoção de não conformidades\n",
        "# Necessário para CoulombMatrix e BPSymmetry\n",
        "\n",
        "for i in range(len(mols)):\n",
        "    Chem.rdDepictor.Compute2DCoords(mols[i])\n",
        "    print(i if i%10 != 0 else '\\n', end=' ') #para acompanhar execução"
      ]
    },
    {
      "cell_type": "code",
      "execution_count": null,
      "id": "LK8-6jJd7OVc",
      "metadata": {
        "id": "LK8-6jJd7OVc"
      },
      "outputs": [],
      "source": [
        "#-----2D-CoulombMatrix Versão DeepChem\n",
        "\n",
        "featurizer = dc.feat.CoulombMatrix(max_atoms=430)\n",
        "d5 = featurizer.featurize(mols)\n",
        "\n",
        "#-----2D-CoulombMatrix Versão RdKit\n",
        "\n",
        "#from rdkit.Chem.rdMolDescriptors import CalcCoulombMat\n",
        "#d5 = []\n",
        "#for i in range(len(mols)):\n",
        "#  d3.append(Chem.rdMolDescriptors.CalcCoulombMat(mols[i]))\n",
        "#  print(i if i%10 != 0 else '\\n', end=' ') #para acompanhar execução\n",
        "\n",
        "\n",
        "# armazena em 2D ( 1722 x [430 * 430] )\n",
        "pd.DataFrame(d5.reshape(d5.shape[0], -1)).to_csv('coulombmatrix.csv', index=False, header=False)"
      ]
    },
    {
      "cell_type": "code",
      "execution_count": null,
      "id": "wpnIfZwm2LZd",
      "metadata": {
        "id": "wpnIfZwm2LZd"
      },
      "outputs": [],
      "source": [
        "#-----1D-BPSymmetry\n",
        "\n",
        "featurizer = dc.feat.BPSymmetryFunctionInput(max_atoms=430)\n",
        "d6 = featurizer.featurize(mols)\n",
        "\n",
        "# armazena em 2D ( 1722 x [430 * 4] )\n",
        "pd.DataFrame(d6.reshape(d6.shape[0], -1)).to_csv('bpsymmetry.csv', index=False, header=False)"
      ]
    },
    {
      "cell_type": "code",
      "execution_count": null,
      "id": "vt_qY9sS9t-F",
      "metadata": {
        "id": "vt_qY9sS9t-F"
      },
      "outputs": [],
      "source": [
        "#-----2D-OneHot\n",
        "\n",
        "featurizer = dc.feat.OneHotFeaturizer(max_length=1011)\n",
        "d7 = featurizer.featurize(smiles)\n",
        "\n",
        "# armazena em 2D ( 1722 x [1011 * 35] )\n",
        "pd.DataFrame(d7.reshape(d7.shape[0], -1)).to_csv('onehot.csv', index=False, header=False)"
      ]
    },
    {
      "cell_type": "code",
      "execution_count": null,
      "id": "LD4aITfXKUCR",
      "metadata": {
        "id": "LD4aITfXKUCR"
      },
      "outputs": [],
      "source": [
        "#-----2D-SmilesToImage\n",
        "\n",
        "# Maior sequencia do dataset tem 1011 simbolos\n",
        "featurizer = dc.feat.SmilesToImage(img_size=150, res=1, img_spec='std', max_len=1011)\n",
        "d8 = featurizer.featurize(mols)\n",
        "\n",
        "# armazena em 2D ( 1722 x [150 * 150] )\n",
        "d8 = d8.reshape(d8.shape[0], 150, 150)\n",
        "pd.DataFrame(d8.reshape(d8.shape[0], -1)).to_csv('smiles2image.csv', index=False, header=False)"
      ]
    },
    {
      "cell_type": "code",
      "execution_count": null,
      "id": "c744cd53-a0fd-4951-a296-ac4e4fbc7974",
      "metadata": {
        "id": "c744cd53-a0fd-4951-a296-ac4e4fbc7974"
      },
      "outputs": [],
      "source": [
        "#-----1D-SmilesToSeq\n",
        "\n",
        "symbols = ['<unk>','<pad>','#', ')', '(', '+', '-', '/', '1', '3', '2', '5', '4', '7', '6', '8', '=', '@', 'C', 'B', 'F', 'I', 'H', 'O', 'N', 'S', '[', ']', '\\\\', 'c', 'l', 'o', 'n', 'p', 's', 'r']\n",
        "numbers = list(range(len(symbols)))\n",
        "d = zip(symbols,numbers)\n",
        "dic = dict(d)\n",
        "\n",
        "featurizer = dc.feat.SmilesToSeq(dic,  max_len = 1011)\n",
        "d9 = featurizer.featurize(smiles)\n",
        "pd.DataFrame(d9).to_csv('features/smilestoseq.csv', index=False, header=False)"
      ]
    },
    {
      "cell_type": "code",
      "execution_count": null,
      "id": "2821fa9b-3933-4daf-ad9f-922d961f513b",
      "metadata": {
        "id": "2821fa9b-3933-4daf-ad9f-922d961f513b",
        "outputId": "f1e874ff-33cc-412a-fd06-3a21c5edf7eb"
      },
      "outputs": [
        {
          "data": {
            "text/plain": [
              "[0,\n",
              " 1,\n",
              " 2,\n",
              " 3,\n",
              " 4,\n",
              " 5,\n",
              " 6,\n",
              " 7,\n",
              " 8,\n",
              " 9,\n",
              " 10,\n",
              " 11,\n",
              " 12,\n",
              " 13,\n",
              " 14,\n",
              " 15,\n",
              " 16,\n",
              " 17,\n",
              " 18,\n",
              " 19,\n",
              " 20,\n",
              " 21,\n",
              " 22,\n",
              " 23,\n",
              " 24,\n",
              " 25,\n",
              " 26,\n",
              " 27,\n",
              " 28,\n",
              " 29,\n",
              " 30,\n",
              " 31,\n",
              " 32,\n",
              " 33,\n",
              " 34,\n",
              " 35]"
            ]
          },
          "execution_count": 7,
          "metadata": {},
          "output_type": "execute_result"
        }
      ],
      "source": [
        "numbers"
      ]
    },
    {
      "cell_type": "code",
      "execution_count": null,
      "id": "34bb3ef1-b962-41fd-afc0-b78768a37848",
      "metadata": {
        "id": "34bb3ef1-b962-41fd-afc0-b78768a37848"
      },
      "outputs": [],
      "source": [
        "#-----1D-FastaToSeq\n",
        "\n",
        "symbols = ['A', 'C', 'D', 'E', 'F', 'G', 'H', 'I', 'K', 'L', 'M', 'N', 'P', 'Q', 'R', 'S', 'T', 'V', 'W','Y']\n",
        "numbers = list(range(len(symbols)))\n",
        "d = zip(symbols,numbers)\n",
        "dic = dict(d)\n",
        "\n",
        "seqs = []\n",
        "\n",
        "for s in fasta:\n",
        "\n",
        "    seq = [-1] * 50\n",
        "    for i in range(len(s)):\n",
        "        seq[i] = dic[s[i]]\n",
        "\n",
        "    seqs.append(seq)\n",
        "\n",
        "pd.DataFrame(np.array(seqs)).to_csv('features/fastatoseq.csv', index=False, header=False)"
      ]
    },
    {
      "cell_type": "code",
      "execution_count": null,
      "id": "fc7cb4ef-7659-412f-8002-a82c70654680",
      "metadata": {
        "id": "fc7cb4ef-7659-412f-8002-a82c70654680"
      },
      "outputs": [],
      "source": []
    }
  ],
  "metadata": {
    "colab": {
      "provenance": [],
      "include_colab_link": true
    },
    "environment": {
      "kernel": "python3",
      "name": "tf2-gpu.2-11.m110",
      "type": "gcloud",
      "uri": "gcr.io/deeplearning-platform-release/tf2-gpu.2-11:m110"
    },
    "kernelspec": {
      "display_name": "Python 3",
      "language": "python",
      "name": "python3"
    },
    "language_info": {
      "codemirror_mode": {
        "name": "ipython",
        "version": 3
      },
      "file_extension": ".py",
      "mimetype": "text/x-python",
      "name": "python",
      "nbconvert_exporter": "python",
      "pygments_lexer": "ipython3",
      "version": "3.10.12"
    }
  },
  "nbformat": 4,
  "nbformat_minor": 5
}